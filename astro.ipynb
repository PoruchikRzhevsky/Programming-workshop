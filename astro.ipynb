{
 "cells": [
  {
   "cell_type": "code",
   "execution_count": 5,
   "metadata": {},
   "outputs": [],
   "source": [
    "#Importing the libraries\n",
    "\n",
    "import matplotlib.pyplot as plt\n",
    "import numpy as np\n",
    "import pandas as pd\n",
    "from scipy import stats"
   ]
  },
  {
   "cell_type": "code",
   "execution_count": 6,
   "metadata": {},
   "outputs": [],
   "source": [
    "#Loading the data\n",
    "\n",
    "data = pd.read_excel('ZA2_t06.xlsx')"
   ]
  },
  {
   "cell_type": "code",
   "execution_count": null,
   "metadata": {},
   "outputs": [],
   "source": [
    "#Linear fit\n",
    "\n",
    "# Calculate linear regression parameters\n",
    "slope, intercept, r_value, p_value, std_err = stats.linregress(data['logP'], data['M'])\n",
    "print('slope: ', slope, '+/-', std_err)\n",
    "\n",
    "# Create the best-fit line\n",
    "best_fit_line = slope * np.array(data['logP']) + intercept"
   ]
  },
  {
   "cell_type": "code",
   "execution_count": null,
   "metadata": {},
   "outputs": [],
   "source": [
    "# Plot the data and the best-fit line\n",
    "\n",
    "colors = ['#FF7F0E','#D62728','#FFDB58','#2CA02C','#17BECF','#1F77B4','#F0027F']  \n",
    "\n",
    "plt.rc(\"font\", size=10)\n",
    "plt.rcParams[\"font.family\"] = \"Times New Roman\"\n",
    "fig, ax = plt.subplots(figsize=(10, 10))\n",
    "\n",
    "# ax.title.set_fontsize(15)\n",
    "ax.set_xlabel(r\"$logP$ [d]\")\n",
    "ax.xaxis.label.set_fontsize(15)\n",
    "ax.set_ylabel(r\"$m$ [mag]\")\n",
    "ax.yaxis.label.set_fontsize(15)\n",
    "ax.invert_yaxis()\n",
    "ax.tick_params(axis=\"both\", which=\"major\", length=10, width=0.5, labelsize=15)\n",
    "ax.tick_params(axis=\"both\", which=\"minor\", length=5, width=0.5, labelsize=15)\n",
    "# plt.xticks(rotation=45)\n",
    "plt.tight_layout()  \n",
    "\n",
    "ax.scatter(data['logP'], data['M'], color=colors[5], linewidth=3, label='Data')\n",
    "ax.plot(data['logP'], best_fit_line, color='r', label='Fit')\n",
    "\n",
    "handles, labels = ax.get_legend_handles_labels()\n",
    "order = [0, 1]\n",
    "\n",
    "ax.legend([handles[i] for i in order], [labels[i] for i in order]\n",
    "        ,frameon=False, loc=\"upper left\", \n",
    "        #   bbox_to_anchor=(0.068, 1.0),\n",
    "\t\t  fontsize=10, ncol=1, handletextpad=0.3)\n",
    "\n",
    "plt.show() \n",
    "\n",
    "# fig.savefig('cefeidy.png', bbox_inches='tight')"
   ]
  }
 ],
 "metadata": {
  "kernelspec": {
   "display_name": "Python 3",
   "language": "python",
   "name": "python3"
  },
  "language_info": {
   "codemirror_mode": {
    "name": "ipython",
    "version": 3
   },
   "file_extension": ".py",
   "mimetype": "text/x-python",
   "name": "python",
   "nbconvert_exporter": "python",
   "pygments_lexer": "ipython3",
   "version": "3.11.6"
  }
 },
 "nbformat": 4,
 "nbformat_minor": 2
}
