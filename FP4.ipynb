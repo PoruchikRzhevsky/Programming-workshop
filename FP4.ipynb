{
 "cells": [
  {
   "cell_type": "code",
   "execution_count": 7,
   "metadata": {},
   "outputs": [],
   "source": [
    "#Importing the libraries\n",
    "\n",
    "import matplotlib.pyplot as plt\n",
    "import numpy as np\n",
    "import pandas as pd\n",
    "from scipy import stats\n",
    "import uncertainties \n",
    "from uncertainties import ufloat"
   ]
  },
  {
   "cell_type": "code",
   "execution_count": 8,
   "metadata": {},
   "outputs": [],
   "source": [
    "# Constants and values\n",
    "\n",
    "L = ufloat(29, 0.1)\n",
    "S = ufloat(0.112e-3, 1e-6)**2 * np.pi/4\n",
    "n = 8.5e28\n",
    "e_0 = 1.6e-19\n",
    "m_e = 9.1093837e-31 "
   ]
  },
  {
   "cell_type": "code",
   "execution_count": null,
   "metadata": {},
   "outputs": [],
   "source": [
    "#Reading data\n",
    "\n",
    "data = pd.read_excel('FP4_data.xlsx')\n",
    "\n",
    "print(data)"
   ]
  },
  {
   "cell_type": "code",
   "execution_count": null,
   "metadata": {},
   "outputs": [],
   "source": [
    "#Calculations\n",
    "\n",
    "data['mu'] = L / (e_0 * n * data['R'] * S)\n",
    "data['tau'] = data['mu']* m_e / e_0\n",
    " \n",
    "print(data)"
   ]
  },
  {
   "cell_type": "code",
   "execution_count": null,
   "metadata": {},
   "outputs": [],
   "source": [
    "# #Linear fitting\n",
    "\n",
    "# Calculate linear regression parameters\n",
    "slope, intercept, r_value, p_value, std_err = stats.linregress(data['t'], data['tau'].apply(lambda x: x.nominal_value)*10**14)\n",
    "print('slope: ', slope, '+/-', std_err)\n",
    "\n",
    "# Create the best-fit line\n",
    "best_fit_line = slope * np.array(data['t']) + intercept"
   ]
  },
  {
   "cell_type": "code",
   "execution_count": null,
   "metadata": {},
   "outputs": [],
   "source": [
    "# Plot the data and the best-fit line\n",
    "\n",
    "colors = ['#FF7F0E','#D62728','#FFDB58','#2CA02C','#17BECF','#1F77B4','#F0027F']  \n",
    "\n",
    "plt.rc(\"font\", size=10)\n",
    "plt.rcParams[\"font.family\"] = \"Times New Roman\"\n",
    "fig, ax = plt.subplots(figsize=(10, 10))\n",
    "\n",
    "# ax.title.set_fontsize(20)\n",
    "ax.set_xlabel(r\"$t$ [$^o$ C]\")\n",
    "ax.xaxis.label.set_fontsize(15)\n",
    "ax.set_ylabel(r\"$\\tau \\times 10^{14}$ [s]\")\n",
    "ax.yaxis.label.set_fontsize(15)\n",
    "ax.tick_params(axis=\"both\", which=\"major\", length=10, width=0.5, labelsize=15)\n",
    "ax.tick_params(axis=\"both\", which=\"minor\", length=5, width=0.5, labelsize=15)\n",
    "# plt.xticks(rotation=45)\n",
    "plt.tight_layout()  \n",
    "\n",
    "ax.errorbar(data['t'], data['tau'].apply(lambda x: x.nominal_value)*10**14, yerr=data['tau'].apply(lambda x: x.std_dev)*10**14, fmt='o', color=colors[5], ecolor=colors[5], markersize=5, capsize=2, label='Data')\n",
    "ax.plot(data['t'], best_fit_line, color='r', label='Fit')\n",
    "\n",
    "handles, labels = ax.get_legend_handles_labels()\n",
    "order = [1, 0]\n",
    "\n",
    "ax.legend([handles[i] for i in order], [labels[i] for i in order]\n",
    "        ,frameon=False, loc=\"upper right\", \n",
    "        #   bbox_to_anchor=(0.068, 1.0),\n",
    "\t\t  fontsize=10, ncol=1, handletextpad=0.3)\n",
    "\n",
    "\n",
    "plt.show() \n",
    "\n",
    "# fig.savefig('tau.png', bbox_inches='tight')"
   ]
  }
 ],
 "metadata": {
  "kernelspec": {
   "display_name": "Python 3",
   "language": "python",
   "name": "python3"
  },
  "language_info": {
   "codemirror_mode": {
    "name": "ipython",
    "version": 3
   },
   "file_extension": ".py",
   "mimetype": "text/x-python",
   "name": "python",
   "nbconvert_exporter": "python",
   "pygments_lexer": "ipython3",
   "version": "3.11.6"
  }
 },
 "nbformat": 4,
 "nbformat_minor": 2
}
